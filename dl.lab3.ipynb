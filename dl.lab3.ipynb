{
 "cells": [
  {
   "cell_type": "code",
   "execution_count": 9,
   "metadata": {},
   "outputs": [],
   "source": [
    "# importing required libraries\n",
    "# importing Scikit-learn library and datasets package\n",
    "from sklearn import datasets\n",
    "\n",
    "# Loading the iris plants dataset (classification)\n",
    "iris = datasets.load_iris()\n"
   ]
  },
  {
   "cell_type": "code",
   "execution_count": 10,
   "metadata": {},
   "outputs": [
    {
     "name": "stdout",
     "output_type": "stream",
     "text": [
      "['setosa' 'versicolor' 'virginica']\n"
     ]
    }
   ],
   "source": [
    "print(iris.target_names)\n"
   ]
  },
  {
   "cell_type": "code",
   "execution_count": 11,
   "metadata": {},
   "outputs": [
    {
     "name": "stdout",
     "output_type": "stream",
     "text": [
      "['sepal length (cm)', 'sepal width (cm)', 'petal length (cm)', 'petal width (cm)']\n"
     ]
    }
   ],
   "source": [
    "print(iris.feature_names)\n"
   ]
  },
  {
   "cell_type": "code",
   "execution_count": 12,
   "metadata": {},
   "outputs": [],
   "source": [
    "# dividing the datasets into two parts i.e. training datasets and test datasets\n",
    "X, y = datasets.load_iris( return_X_y = True)\n",
    "\n",
    "# Splitting arrays or matrices into random train and test subsets\n",
    "from sklearn.model_selection import train_test_split\n",
    "# i.e. 70 % training dataset and 30 % test datasets\n",
    "X_train, X_test, y_train, y_test = train_test_split(X, y, test_size = 0.30)\n"
   ]
  },
  {
   "cell_type": "code",
   "execution_count": 13,
   "metadata": {},
   "outputs": [],
   "source": [
    "# importing random forest classifier from assemble module\n",
    "from sklearn.ensemble import RandomForestClassifier\n",
    "import pandas as pd\n",
    "# creating dataframe of IRIS dataset\n",
    "data = pd.DataFrame({'sepallength': iris.data[:, 0], 'sepalwidth': iris.data[:, 1],\n",
    "\t\t\t\t\t'petallength': iris.data[:, 2], 'petalwidth': iris.data[:, 3],\n",
    "\t\t\t\t\t'species': iris.target})\n"
   ]
  },
  {
   "cell_type": "code",
   "execution_count": 14,
   "metadata": {},
   "outputs": [
    {
     "name": "stdout",
     "output_type": "stream",
     "text": [
      "   sepallength  sepalwidth  petallength  petalwidth  species\n",
      "0          5.1         3.5          1.4         0.2        0\n",
      "1          4.9         3.0          1.4         0.2        0\n",
      "2          4.7         3.2          1.3         0.2        0\n",
      "3          4.6         3.1          1.5         0.2        0\n",
      "4          5.0         3.6          1.4         0.2        0\n"
     ]
    }
   ],
   "source": [
    "# printing the top 5 datasets in iris dataset\n",
    "print(data.head())\n"
   ]
  },
  {
   "cell_type": "code",
   "execution_count": 15,
   "metadata": {},
   "outputs": [
    {
     "name": "stdout",
     "output_type": "stream",
     "text": [
      "\n",
      "ACCURACY OF THE MODEL: 0.9555555555555556\n"
     ]
    }
   ],
   "source": [
    "# creating a RF classifier\n",
    "clf = RandomForestClassifier(n_estimators = 100) \n",
    "\n",
    "# Training the model on the training dataset\n",
    "# fit function is used to train the model using the training sets as parameters\n",
    "clf.fit(X_train, y_train)\n",
    "\n",
    "# performing predictions on the test dataset\n",
    "y_pred = clf.predict(X_test)\n",
    "\n",
    "# metrics are used to find accuracy or error\n",
    "from sklearn import metrics \n",
    "\n",
    "\n",
    "# using metrics module for accuracy calculation\n",
    "print(\"ACCURACY OF THE MODEL:\", metrics.accuracy_score(y_test, y_pred))\n"
   ]
  },
  {
   "cell_type": "code",
   "execution_count": 16,
   "metadata": {},
   "outputs": [
    {
     "data": {
      "text/plain": [
       "array([0])"
      ]
     },
     "execution_count": 16,
     "metadata": {},
     "output_type": "execute_result"
    }
   ],
   "source": [
    "# predicting which type of flower it is.\n",
    "clf.predict([[3, 3, 2, 2]])\n"
   ]
  },
  {
   "cell_type": "code",
   "execution_count": 17,
   "metadata": {},
   "outputs": [
    {
     "data": {
      "text/plain": [
       "petal width (cm)     0.504650\n",
       "petal length (cm)    0.361278\n",
       "sepal length (cm)    0.107298\n",
       "sepal width (cm)     0.026774\n",
       "dtype: float64"
      ]
     },
     "execution_count": 17,
     "metadata": {},
     "output_type": "execute_result"
    }
   ],
   "source": [
    "# using the feature importance variable\n",
    "import pandas as pd\n",
    "feature_imp = pd.Series(clf.feature_importances_, index = iris.feature_names).sort_values(ascending = False)\n",
    "feature_imp\n"
   ]
  },
  {
   "cell_type": "code",
   "execution_count": null,
   "metadata": {},
   "outputs": [],
   "source": []
  }
 ],
 "metadata": {
  "kernelspec": {
   "display_name": "base",
   "language": "python",
   "name": "python3"
  },
  "language_info": {
   "codemirror_mode": {
    "name": "ipython",
    "version": 3
   },
   "file_extension": ".py",
   "mimetype": "text/x-python",
   "name": "python",
   "nbconvert_exporter": "python",
   "pygments_lexer": "ipython3",
   "version": "3.11.5"
  }
 },
 "nbformat": 4,
 "nbformat_minor": 2
}
